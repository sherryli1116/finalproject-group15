{
 "cells": [
  {
   "cell_type": "code",
   "execution_count": 1,
   "id": "f755bb09",
   "metadata": {},
   "outputs": [],
   "source": [
    "import pandas as pd\n",
    "import numpy as np\n",
    "import matplotlib.pyplot as plt\n",
    "from sklearn import linear_model\n",
    "from sklearn.linear_model import LinearRegression"
   ]
  },
  {
   "cell_type": "code",
   "execution_count": 2,
   "id": "971913c0",
   "metadata": {},
   "outputs": [],
   "source": [
    "# set file path\n",
    "file_path = \"city_temperature.csv\"\n",
    "temp_df = pd.read_csv(file_path, low_memory=False)\n",
    "#temp_df"
   ]
  },
  {
   "cell_type": "code",
   "execution_count": 3,
   "id": "43dfa9e7",
   "metadata": {},
   "outputs": [],
   "source": [
    "# create copy df and drop column 'State'\n",
    "temp_df = temp_df[[\"Country\", \"City\", \"Month\", \"Day\", \"Year\", \"AvgTemperature\"]].copy()\n",
    "#temp_df"
   ]
  },
  {
   "cell_type": "code",
   "execution_count": 4,
   "id": "d44f5ba1",
   "metadata": {},
   "outputs": [
    {
     "data": {
      "text/plain": [
       "321"
      ]
     },
     "execution_count": 4,
     "metadata": {},
     "output_type": "execute_result"
    }
   ],
   "source": [
    "temp_df[\"City\"].nunique()"
   ]
  },
  {
   "cell_type": "code",
   "execution_count": 5,
   "id": "28b661c3",
   "metadata": {},
   "outputs": [
    {
     "data": {
      "text/plain": [
       "Country           0\n",
       "City              0\n",
       "Month             0\n",
       "Day               0\n",
       "Year              0\n",
       "AvgTemperature    0\n",
       "dtype: int64"
      ]
     },
     "execution_count": 5,
     "metadata": {},
     "output_type": "execute_result"
    }
   ],
   "source": [
    "# check dataset for null values\n",
    "temp_df.isnull().sum()"
   ]
  },
  {
   "cell_type": "code",
   "execution_count": 6,
   "id": "3a70b016",
   "metadata": {},
   "outputs": [
    {
     "data": {
      "text/plain": [
       "Country            object\n",
       "City               object\n",
       "Month               int64\n",
       "Day                 int64\n",
       "Year                int64\n",
       "AvgTemperature    float64\n",
       "dtype: object"
      ]
     },
     "execution_count": 6,
     "metadata": {},
     "output_type": "execute_result"
    }
   ],
   "source": [
    "# check data types\n",
    "temp_df.dtypes"
   ]
  },
  {
   "cell_type": "code",
   "execution_count": 7,
   "id": "d041010c",
   "metadata": {},
   "outputs": [
    {
     "data": {
      "text/plain": [
       "2001    115277\n",
       "2005    114775\n",
       "2004    114597\n",
       "2003    114283\n",
       "2006    114201\n",
       "2000    114169\n",
       "2010    113642\n",
       "2002    113616\n",
       "1999    113406\n",
       "2007    113180\n",
       "2009    112977\n",
       "1997    112952\n",
       "1996    112734\n",
       "2008    112724\n",
       "2011    112407\n",
       "1995    112152\n",
       "2012    111165\n",
       "1998    111102\n",
       "2013    110228\n",
       "2014    107860\n",
       "2015    106809\n",
       "2017    106421\n",
       "2016    106403\n",
       "2018    105748\n",
       "2019    105085\n",
       "2020     38742\n",
       "Name: Year, dtype: int64"
      ]
     },
     "execution_count": 7,
     "metadata": {},
     "output_type": "execute_result"
    }
   ],
   "source": [
    "# remove average temperature values = -99\n",
    "temp_df = temp_df[temp_df[\"AvgTemperature\"] != -99]\n",
    "temp_df[\"Year\"].value_counts()"
   ]
  },
  {
   "cell_type": "code",
   "execution_count": 8,
   "id": "3378f8fb",
   "metadata": {},
   "outputs": [],
   "source": [
    "# remove year 2020 due to incomplete yearly data\n",
    "temp_df = temp_df[temp_df[\"Year\"] != 2020]"
   ]
  },
  {
   "cell_type": "code",
   "execution_count": 9,
   "id": "2e1978bb",
   "metadata": {},
   "outputs": [],
   "source": [
    "# identify cities with incomplete datasets\n",
    "cities = temp_df.groupby([\"City\"]).sum()\n",
    "cities = cities[cities[\"Year\"] < 40190]\n",
    "#cities"
   ]
  },
  {
   "cell_type": "code",
   "execution_count": 10,
   "id": "c22a5135",
   "metadata": {},
   "outputs": [],
   "source": [
    "# remove cities with incomplete datasets\n",
    "temp_df = temp_df[(temp_df[\"City\"] != \"Athens\") &\n",
    "                  (temp_df[\"City\"] != \"Bangkok\") &\n",
    "                  (temp_df[\"City\"] != \"Baton Rouge\") &\n",
    "                  (temp_df[\"City\"] != \"Bissau\") &\n",
    "                  (temp_df[\"City\"] != \"Bonn\") &\n",
    "                  (temp_df[\"City\"] != \"Bujumbura\") &\n",
    "                  (temp_df[\"City\"] != \"Calgary\") &\n",
    "                  (temp_df[\"City\"] != \"Daytona Beach\") &\n",
    "                  (temp_df[\"City\"] != \"Dhaka\") &\n",
    "                  (temp_df[\"City\"] != \"Flagstaff\") &\n",
    "                  (temp_df[\"City\"] != \"Freetown\") &\n",
    "                  (temp_df[\"City\"] != \"Georgetown\") &\n",
    "                  (temp_df[\"City\"] != \"Halifax\") &\n",
    "                  (temp_df[\"City\"] != \"Hamburg\") &\n",
    "                  (temp_df[\"City\"] != \"Hamilton\") &\n",
    "                  (temp_df[\"City\"] != \"Harrisburg\") &\n",
    "                  (temp_df[\"City\"] != \"Lilongwe\") &\n",
    "                  (temp_df[\"City\"] != \"Lusaka\") &\n",
    "                  (temp_df[\"City\"] != \"Montreal\") &\n",
    "                  (temp_df[\"City\"] != \"Muscat\") &\n",
    "                  (temp_df[\"City\"] != \"Nicosia\") &\n",
    "                  (temp_df[\"City\"] != \"Ottawa\") &\n",
    "                  (temp_df[\"City\"] != \"Pristina\") &\n",
    "                  (temp_df[\"City\"] != \"Quito\") &\n",
    "                  (temp_df[\"City\"] != \"San Juan Puerto Rico\") &\n",
    "                  (temp_df[\"City\"] != \"Tbilisi\") &\n",
    "                  (temp_df[\"City\"] != \"Tel Aviv\") &\n",
    "                  (temp_df[\"City\"] != \"Toronto\") &\n",
    "                  (temp_df[\"City\"] != \"Vancouver\") &\n",
    "                  (temp_df[\"City\"] != \"Wilmington\") &\n",
    "                  (temp_df[\"City\"] != \"Winnipeg\") &\n",
    "                  (temp_df[\"City\"] != \"Yerevan\") &\n",
    "                  (temp_df[\"City\"] != \"Yuma\")]"
   ]
  },
  {
   "cell_type": "code",
   "execution_count": 11,
   "id": "d90a4dce",
   "metadata": {},
   "outputs": [
    {
     "data": {
      "text/plain": [
       "Country            110\n",
       "City               288\n",
       "Month               12\n",
       "Day                 31\n",
       "Year                25\n",
       "AvgTemperature    1514\n",
       "dtype: int64"
      ]
     },
     "execution_count": 11,
     "metadata": {},
     "output_type": "execute_result"
    }
   ],
   "source": [
    "# number of unique cities\n",
    "temp_df.nunique()"
   ]
  },
  {
   "cell_type": "code",
   "execution_count": 12,
   "id": "b5572219",
   "metadata": {},
   "outputs": [],
   "source": [
    "# group by temperature\n",
    "temp_df = temp_df.drop(columns=[\"Day\"])\n",
    "temp_df = temp_df.groupby([\"Country\", \"City\", \"Year\", \"Month\"], sort=False).mean()\n",
    "temp_df = temp_df.reset_index()\n",
    "#temp_df"
   ]
  },
  {
   "cell_type": "code",
   "execution_count": 13,
   "id": "76c31287",
   "metadata": {},
   "outputs": [],
   "source": [
    "# summary statistics\n",
    "temp_stats = temp_df[\"AvgTemperature\"].describe()"
   ]
  },
  {
   "cell_type": "code",
   "execution_count": 14,
   "id": "5b7918a4",
   "metadata": {},
   "outputs": [],
   "source": [
    "# calculate lower and upper bounds for outliers\n",
    "temp_IQR = temp_stats[\"75%\"] - temp_stats[\"25%\"]\n",
    "lower_bound = temp_stats[\"25%\"] - 1.5*temp_IQR\n",
    "upper_bound = temp_stats[\"75%\"] + 1.5*temp_IQR\n",
    "#print(lower_bound, upper_bound)"
   ]
  },
  {
   "cell_type": "code",
   "execution_count": 15,
   "id": "0fcb5fcc",
   "metadata": {},
   "outputs": [],
   "source": [
    "# determine number of lower bound outliers\n",
    "lower_bound_outliers = temp_df[temp_df[\"AvgTemperature\"] < lower_bound]\n",
    "#lower_bound_outliers"
   ]
  },
  {
   "cell_type": "code",
   "execution_count": 16,
   "id": "df86c902",
   "metadata": {},
   "outputs": [
    {
     "data": {
      "text/plain": [
       "array(['Shenyang', 'Ulan-bator', 'Moscow', 'Edmonton', 'Quebec', 'Regina',\n",
       "       'Anchorage', 'Fairbanks', 'Caribou', 'Sault Ste Marie', 'Duluth',\n",
       "       'Great Falls', 'Helena', 'Bismarck', 'Fargo'], dtype=object)"
      ]
     },
     "execution_count": 16,
     "metadata": {},
     "output_type": "execute_result"
    }
   ],
   "source": [
    "# show cities that fall below lower bound\n",
    "lower_bound_outliers[\"City\"].unique()"
   ]
  },
  {
   "cell_type": "code",
   "execution_count": 17,
   "id": "92d58bc8",
   "metadata": {},
   "outputs": [],
   "source": [
    "# determine number of upper bound outliers\n",
    "upper_bound_outliers = temp_df[temp_df[\"AvgTemperature\"] > upper_bound]\n",
    "#upper_bound_outliers"
   ]
  },
  {
   "cell_type": "code",
   "execution_count": 18,
   "id": "e5473294",
   "metadata": {},
   "outputs": [],
   "source": [
    "# save the file\n",
    "output_file = \"clean_temp_df.csv\"\n",
    "temp_df.to_csv(output_file)"
   ]
  },
  {
   "cell_type": "code",
   "execution_count": 19,
   "id": "33abbf1f",
   "metadata": {},
   "outputs": [],
   "source": [
    "# set file path\n",
    "file_path = \"owid-co2-data.csv\"\n",
    "co2_df = pd.read_csv(file_path, low_memory=False)\n",
    "#co2_df.head()"
   ]
  },
  {
   "cell_type": "code",
   "execution_count": 20,
   "id": "783b4956",
   "metadata": {},
   "outputs": [],
   "source": [
    "# create copy of df\n",
    "co2_df = co2_df[['country','year','population', 'co2']].copy()\n",
    "#co2_df.head()"
   ]
  },
  {
   "cell_type": "code",
   "execution_count": 21,
   "id": "4352e6e0",
   "metadata": {},
   "outputs": [],
   "source": [
    "# replace country names to align with 'city_temperature' dataset\n",
    "co2_df['country'] = co2_df['country'].replace(['United States','Serbia','Netherlands'], ['US','Serbia-Montenegro','The Netherlands'])\n",
    "#co2_df"
   ]
  },
  {
   "cell_type": "code",
   "execution_count": 22,
   "id": "785bbff8",
   "metadata": {},
   "outputs": [],
   "source": [
    "# remove values for years before 1995 and year 2020\n",
    "co2_df = co2_df[(co2_df[\"year\"] > 1994) &\n",
    "               (co2_df[\"year\"] != 2020)]\n",
    "#co2_df"
   ]
  },
  {
   "cell_type": "code",
   "execution_count": 23,
   "id": "d7e703eb",
   "metadata": {},
   "outputs": [],
   "source": [
    "# rename columns consistent with 'city_temperature' dataset\n",
    "co2_df.rename(columns={'country': \"Country\",'year':'Year'}, inplace=True)\n",
    "#co2_df"
   ]
  },
  {
   "cell_type": "code",
   "execution_count": 24,
   "id": "58f9fbbf",
   "metadata": {},
   "outputs": [],
   "source": [
    "# convert co2 emissions to yearly\n",
    "main_df = pd.merge(co2_df,temp_df, on=['Country','Year'])\n",
    "main_df['co2']=main_df['co2'].apply(lambda x: x*.0833)\n",
    "#main_df"
   ]
  },
  {
   "cell_type": "code",
   "execution_count": 25,
   "id": "25b05651",
   "metadata": {},
   "outputs": [
    {
     "data": {
      "text/plain": [
       "Little Rock    300\n",
       "New Orleans    300\n",
       "Detroit        300\n",
       "Boston         300\n",
       "Baltimore      300\n",
       "              ... \n",
       "Lima           251\n",
       "Edmonton       244\n",
       "Lagos          243\n",
       "Nairobi        239\n",
       "Frankfurt      127\n",
       "Name: City, Length: 282, dtype: int64"
      ]
     },
     "execution_count": 25,
     "metadata": {},
     "output_type": "execute_result"
    }
   ],
   "source": [
    "main_df[\"City\"].value_counts()"
   ]
  },
  {
   "cell_type": "code",
   "execution_count": 26,
   "id": "4751bfd1",
   "metadata": {},
   "outputs": [
    {
     "data": {
      "text/html": [
       "<div>\n",
       "<style scoped>\n",
       "    .dataframe tbody tr th:only-of-type {\n",
       "        vertical-align: middle;\n",
       "    }\n",
       "\n",
       "    .dataframe tbody tr th {\n",
       "        vertical-align: top;\n",
       "    }\n",
       "\n",
       "    .dataframe thead th {\n",
       "        text-align: right;\n",
       "    }\n",
       "</style>\n",
       "<table border=\"1\" class=\"dataframe\">\n",
       "  <thead>\n",
       "    <tr style=\"text-align: right;\">\n",
       "      <th></th>\n",
       "      <th>Country</th>\n",
       "      <th>Year</th>\n",
       "      <th>population</th>\n",
       "      <th>co2</th>\n",
       "      <th>City</th>\n",
       "      <th>Month</th>\n",
       "      <th>AvgTemperature</th>\n",
       "      <th>DATE</th>\n",
       "    </tr>\n",
       "  </thead>\n",
       "  <tbody>\n",
       "    <tr>\n",
       "      <th>0</th>\n",
       "      <td>Albania</td>\n",
       "      <td>1997</td>\n",
       "      <td>3099747.0</td>\n",
       "      <td>0.127616</td>\n",
       "      <td>Tirana</td>\n",
       "      <td>4</td>\n",
       "      <td>58.340000</td>\n",
       "      <td>1997-04-01</td>\n",
       "    </tr>\n",
       "    <tr>\n",
       "      <th>1</th>\n",
       "      <td>Albania</td>\n",
       "      <td>1997</td>\n",
       "      <td>3099747.0</td>\n",
       "      <td>0.127616</td>\n",
       "      <td>Tirana</td>\n",
       "      <td>5</td>\n",
       "      <td>67.233333</td>\n",
       "      <td>1997-05-01</td>\n",
       "    </tr>\n",
       "    <tr>\n",
       "      <th>2</th>\n",
       "      <td>Albania</td>\n",
       "      <td>1997</td>\n",
       "      <td>3099747.0</td>\n",
       "      <td>0.127616</td>\n",
       "      <td>Tirana</td>\n",
       "      <td>6</td>\n",
       "      <td>77.366667</td>\n",
       "      <td>1997-06-01</td>\n",
       "    </tr>\n",
       "    <tr>\n",
       "      <th>3</th>\n",
       "      <td>Albania</td>\n",
       "      <td>1997</td>\n",
       "      <td>3099747.0</td>\n",
       "      <td>0.127616</td>\n",
       "      <td>Tirana</td>\n",
       "      <td>7</td>\n",
       "      <td>80.811111</td>\n",
       "      <td>1997-07-01</td>\n",
       "    </tr>\n",
       "    <tr>\n",
       "      <th>4</th>\n",
       "      <td>Albania</td>\n",
       "      <td>1998</td>\n",
       "      <td>3110699.0</td>\n",
       "      <td>0.145275</td>\n",
       "      <td>Tirana</td>\n",
       "      <td>2</td>\n",
       "      <td>47.800000</td>\n",
       "      <td>1998-02-01</td>\n",
       "    </tr>\n",
       "    <tr>\n",
       "      <th>...</th>\n",
       "      <td>...</td>\n",
       "      <td>...</td>\n",
       "      <td>...</td>\n",
       "      <td>...</td>\n",
       "      <td>...</td>\n",
       "      <td>...</td>\n",
       "      <td>...</td>\n",
       "      <td>...</td>\n",
       "    </tr>\n",
       "    <tr>\n",
       "      <th>83790</th>\n",
       "      <td>Vietnam</td>\n",
       "      <td>2019</td>\n",
       "      <td>96462108.0</td>\n",
       "      <td>21.683990</td>\n",
       "      <td>Hanoi</td>\n",
       "      <td>8</td>\n",
       "      <td>84.680645</td>\n",
       "      <td>2019-08-01</td>\n",
       "    </tr>\n",
       "    <tr>\n",
       "      <th>83791</th>\n",
       "      <td>Vietnam</td>\n",
       "      <td>2019</td>\n",
       "      <td>96462108.0</td>\n",
       "      <td>21.683990</td>\n",
       "      <td>Hanoi</td>\n",
       "      <td>9</td>\n",
       "      <td>83.300000</td>\n",
       "      <td>2019-09-01</td>\n",
       "    </tr>\n",
       "    <tr>\n",
       "      <th>83792</th>\n",
       "      <td>Vietnam</td>\n",
       "      <td>2019</td>\n",
       "      <td>96462108.0</td>\n",
       "      <td>21.683990</td>\n",
       "      <td>Hanoi</td>\n",
       "      <td>10</td>\n",
       "      <td>78.451613</td>\n",
       "      <td>2019-10-01</td>\n",
       "    </tr>\n",
       "    <tr>\n",
       "      <th>83793</th>\n",
       "      <td>Vietnam</td>\n",
       "      <td>2019</td>\n",
       "      <td>96462108.0</td>\n",
       "      <td>21.683990</td>\n",
       "      <td>Hanoi</td>\n",
       "      <td>11</td>\n",
       "      <td>72.960000</td>\n",
       "      <td>2019-11-01</td>\n",
       "    </tr>\n",
       "    <tr>\n",
       "      <th>83794</th>\n",
       "      <td>Vietnam</td>\n",
       "      <td>2019</td>\n",
       "      <td>96462108.0</td>\n",
       "      <td>21.683990</td>\n",
       "      <td>Hanoi</td>\n",
       "      <td>12</td>\n",
       "      <td>65.838710</td>\n",
       "      <td>2019-12-01</td>\n",
       "    </tr>\n",
       "  </tbody>\n",
       "</table>\n",
       "<p>83795 rows × 8 columns</p>\n",
       "</div>"
      ],
      "text/plain": [
       "       Country  Year  population        co2    City  Month  AvgTemperature  \\\n",
       "0      Albania  1997   3099747.0   0.127616  Tirana      4       58.340000   \n",
       "1      Albania  1997   3099747.0   0.127616  Tirana      5       67.233333   \n",
       "2      Albania  1997   3099747.0   0.127616  Tirana      6       77.366667   \n",
       "3      Albania  1997   3099747.0   0.127616  Tirana      7       80.811111   \n",
       "4      Albania  1998   3110699.0   0.145275  Tirana      2       47.800000   \n",
       "...        ...   ...         ...        ...     ...    ...             ...   \n",
       "83790  Vietnam  2019  96462108.0  21.683990   Hanoi      8       84.680645   \n",
       "83791  Vietnam  2019  96462108.0  21.683990   Hanoi      9       83.300000   \n",
       "83792  Vietnam  2019  96462108.0  21.683990   Hanoi     10       78.451613   \n",
       "83793  Vietnam  2019  96462108.0  21.683990   Hanoi     11       72.960000   \n",
       "83794  Vietnam  2019  96462108.0  21.683990   Hanoi     12       65.838710   \n",
       "\n",
       "            DATE  \n",
       "0     1997-04-01  \n",
       "1     1997-05-01  \n",
       "2     1997-06-01  \n",
       "3     1997-07-01  \n",
       "4     1998-02-01  \n",
       "...          ...  \n",
       "83790 2019-08-01  \n",
       "83791 2019-09-01  \n",
       "83792 2019-10-01  \n",
       "83793 2019-11-01  \n",
       "83794 2019-12-01  \n",
       "\n",
       "[83795 rows x 8 columns]"
      ]
     },
     "execution_count": 26,
     "metadata": {},
     "output_type": "execute_result"
    }
   ],
   "source": [
    "main_df['DATE'] = pd.to_datetime(main_df[['Year', 'Month']].assign(DAY=1))\n",
    "main_df"
   ]
  },
  {
   "cell_type": "code",
   "execution_count": 27,
   "id": "130aae38",
   "metadata": {},
   "outputs": [],
   "source": [
    "# calculate yearly averages\n",
    "temp_df2 = temp_df.groupby(['Country','City','Year'],sort=False).mean()\n",
    "temp_df2 = temp_df2.reset_index()\n",
    "\n",
    "main_year = pd.merge(co2_df,temp_df2, on=['Country','Year'])\n",
    "main_year = main_year.drop(columns=['Month'])\n",
    "\n",
    "#main_year"
   ]
  },
  {
   "cell_type": "code",
   "execution_count": 28,
   "id": "b7a74831",
   "metadata": {},
   "outputs": [
    {
     "data": {
      "text/html": [
       "<div>\n",
       "<style scoped>\n",
       "    .dataframe tbody tr th:only-of-type {\n",
       "        vertical-align: middle;\n",
       "    }\n",
       "\n",
       "    .dataframe tbody tr th {\n",
       "        vertical-align: top;\n",
       "    }\n",
       "\n",
       "    .dataframe thead th {\n",
       "        text-align: right;\n",
       "    }\n",
       "</style>\n",
       "<table border=\"1\" class=\"dataframe\">\n",
       "  <thead>\n",
       "    <tr style=\"text-align: right;\">\n",
       "      <th></th>\n",
       "      <th>Country</th>\n",
       "      <th>Year</th>\n",
       "      <th>population</th>\n",
       "      <th>co2</th>\n",
       "      <th>City</th>\n",
       "      <th>AvgTemperature</th>\n",
       "    </tr>\n",
       "  </thead>\n",
       "  <tbody>\n",
       "    <tr>\n",
       "      <th>3354</th>\n",
       "      <td>US</td>\n",
       "      <td>1995</td>\n",
       "      <td>265163740.0</td>\n",
       "      <td>5421.502</td>\n",
       "      <td>Abilene</td>\n",
       "      <td>63.323867</td>\n",
       "    </tr>\n",
       "    <tr>\n",
       "      <th>3501</th>\n",
       "      <td>US</td>\n",
       "      <td>1996</td>\n",
       "      <td>268335007.0</td>\n",
       "      <td>5610.582</td>\n",
       "      <td>Abilene</td>\n",
       "      <td>63.757908</td>\n",
       "    </tr>\n",
       "    <tr>\n",
       "      <th>3648</th>\n",
       "      <td>US</td>\n",
       "      <td>1997</td>\n",
       "      <td>271713634.0</td>\n",
       "      <td>5686.465</td>\n",
       "      <td>Abilene</td>\n",
       "      <td>62.470697</td>\n",
       "    </tr>\n",
       "    <tr>\n",
       "      <th>3795</th>\n",
       "      <td>US</td>\n",
       "      <td>1998</td>\n",
       "      <td>275175309.0</td>\n",
       "      <td>5731.050</td>\n",
       "      <td>Abilene</td>\n",
       "      <td>66.288621</td>\n",
       "    </tr>\n",
       "    <tr>\n",
       "      <th>3942</th>\n",
       "      <td>US</td>\n",
       "      <td>1999</td>\n",
       "      <td>278548148.0</td>\n",
       "      <td>5804.669</td>\n",
       "      <td>Abilene</td>\n",
       "      <td>65.956385</td>\n",
       "    </tr>\n",
       "    <tr>\n",
       "      <th>4089</th>\n",
       "      <td>US</td>\n",
       "      <td>2000</td>\n",
       "      <td>281710914.0</td>\n",
       "      <td>6010.508</td>\n",
       "      <td>Abilene</td>\n",
       "      <td>66.062195</td>\n",
       "    </tr>\n",
       "    <tr>\n",
       "      <th>4236</th>\n",
       "      <td>US</td>\n",
       "      <td>2001</td>\n",
       "      <td>284607992.0</td>\n",
       "      <td>5904.882</td>\n",
       "      <td>Abilene</td>\n",
       "      <td>64.407984</td>\n",
       "    </tr>\n",
       "    <tr>\n",
       "      <th>4383</th>\n",
       "      <td>US</td>\n",
       "      <td>2002</td>\n",
       "      <td>287279312.0</td>\n",
       "      <td>5946.771</td>\n",
       "      <td>Abilene</td>\n",
       "      <td>63.198932</td>\n",
       "    </tr>\n",
       "    <tr>\n",
       "      <th>4530</th>\n",
       "      <td>US</td>\n",
       "      <td>2003</td>\n",
       "      <td>289815567.0</td>\n",
       "      <td>6011.837</td>\n",
       "      <td>Abilene</td>\n",
       "      <td>64.224388</td>\n",
       "    </tr>\n",
       "    <tr>\n",
       "      <th>4677</th>\n",
       "      <td>US</td>\n",
       "      <td>2004</td>\n",
       "      <td>292354663.0</td>\n",
       "      <td>6114.007</td>\n",
       "      <td>Abilene</td>\n",
       "      <td>63.162758</td>\n",
       "    </tr>\n",
       "    <tr>\n",
       "      <th>4824</th>\n",
       "      <td>US</td>\n",
       "      <td>2005</td>\n",
       "      <td>294993509.0</td>\n",
       "      <td>6134.521</td>\n",
       "      <td>Abilene</td>\n",
       "      <td>64.676754</td>\n",
       "    </tr>\n",
       "    <tr>\n",
       "      <th>4971</th>\n",
       "      <td>US</td>\n",
       "      <td>2006</td>\n",
       "      <td>297758977.0</td>\n",
       "      <td>6051.668</td>\n",
       "      <td>Abilene</td>\n",
       "      <td>66.384285</td>\n",
       "    </tr>\n",
       "    <tr>\n",
       "      <th>5118</th>\n",
       "      <td>US</td>\n",
       "      <td>2007</td>\n",
       "      <td>300608425.0</td>\n",
       "      <td>6131.004</td>\n",
       "      <td>Abilene</td>\n",
       "      <td>63.182593</td>\n",
       "    </tr>\n",
       "    <tr>\n",
       "      <th>5265</th>\n",
       "      <td>US</td>\n",
       "      <td>2008</td>\n",
       "      <td>303486022.0</td>\n",
       "      <td>5914.078</td>\n",
       "      <td>Abilene</td>\n",
       "      <td>64.493778</td>\n",
       "    </tr>\n",
       "    <tr>\n",
       "      <th>5412</th>\n",
       "      <td>US</td>\n",
       "      <td>2009</td>\n",
       "      <td>306307565.0</td>\n",
       "      <td>5478.210</td>\n",
       "      <td>Abilene</td>\n",
       "      <td>64.347104</td>\n",
       "    </tr>\n",
       "    <tr>\n",
       "      <th>5559</th>\n",
       "      <td>US</td>\n",
       "      <td>2010</td>\n",
       "      <td>309011469.0</td>\n",
       "      <td>5675.786</td>\n",
       "      <td>Abilene</td>\n",
       "      <td>64.201128</td>\n",
       "    </tr>\n",
       "    <tr>\n",
       "      <th>5706</th>\n",
       "      <td>US</td>\n",
       "      <td>2011</td>\n",
       "      <td>311584051.0</td>\n",
       "      <td>5540.173</td>\n",
       "      <td>Abilene</td>\n",
       "      <td>67.231342</td>\n",
       "    </tr>\n",
       "    <tr>\n",
       "      <th>5853</th>\n",
       "      <td>US</td>\n",
       "      <td>2012</td>\n",
       "      <td>314043885.0</td>\n",
       "      <td>5338.698</td>\n",
       "      <td>Abilene</td>\n",
       "      <td>67.129196</td>\n",
       "    </tr>\n",
       "    <tr>\n",
       "      <th>6000</th>\n",
       "      <td>US</td>\n",
       "      <td>2013</td>\n",
       "      <td>316400539.0</td>\n",
       "      <td>5474.257</td>\n",
       "      <td>Abilene</td>\n",
       "      <td>64.442176</td>\n",
       "    </tr>\n",
       "    <tr>\n",
       "      <th>6147</th>\n",
       "      <td>US</td>\n",
       "      <td>2014</td>\n",
       "      <td>318673422.0</td>\n",
       "      <td>5522.807</td>\n",
       "      <td>Abilene</td>\n",
       "      <td>64.987577</td>\n",
       "    </tr>\n",
       "    <tr>\n",
       "      <th>6294</th>\n",
       "      <td>US</td>\n",
       "      <td>2015</td>\n",
       "      <td>320878312.0</td>\n",
       "      <td>5371.771</td>\n",
       "      <td>Abilene</td>\n",
       "      <td>64.975965</td>\n",
       "    </tr>\n",
       "    <tr>\n",
       "      <th>6441</th>\n",
       "      <td>US</td>\n",
       "      <td>2016</td>\n",
       "      <td>323015992.0</td>\n",
       "      <td>5248.024</td>\n",
       "      <td>Abilene</td>\n",
       "      <td>65.746944</td>\n",
       "    </tr>\n",
       "    <tr>\n",
       "      <th>6588</th>\n",
       "      <td>US</td>\n",
       "      <td>2017</td>\n",
       "      <td>325084758.0</td>\n",
       "      <td>5207.751</td>\n",
       "      <td>Abilene</td>\n",
       "      <td>65.064853</td>\n",
       "    </tr>\n",
       "    <tr>\n",
       "      <th>6735</th>\n",
       "      <td>US</td>\n",
       "      <td>2018</td>\n",
       "      <td>327096263.0</td>\n",
       "      <td>5375.491</td>\n",
       "      <td>Abilene</td>\n",
       "      <td>64.308569</td>\n",
       "    </tr>\n",
       "    <tr>\n",
       "      <th>6882</th>\n",
       "      <td>US</td>\n",
       "      <td>2019</td>\n",
       "      <td>329064917.0</td>\n",
       "      <td>5255.816</td>\n",
       "      <td>Abilene</td>\n",
       "      <td>65.250757</td>\n",
       "    </tr>\n",
       "  </tbody>\n",
       "</table>\n",
       "</div>"
      ],
      "text/plain": [
       "     Country  Year   population       co2     City  AvgTemperature\n",
       "3354      US  1995  265163740.0  5421.502  Abilene       63.323867\n",
       "3501      US  1996  268335007.0  5610.582  Abilene       63.757908\n",
       "3648      US  1997  271713634.0  5686.465  Abilene       62.470697\n",
       "3795      US  1998  275175309.0  5731.050  Abilene       66.288621\n",
       "3942      US  1999  278548148.0  5804.669  Abilene       65.956385\n",
       "4089      US  2000  281710914.0  6010.508  Abilene       66.062195\n",
       "4236      US  2001  284607992.0  5904.882  Abilene       64.407984\n",
       "4383      US  2002  287279312.0  5946.771  Abilene       63.198932\n",
       "4530      US  2003  289815567.0  6011.837  Abilene       64.224388\n",
       "4677      US  2004  292354663.0  6114.007  Abilene       63.162758\n",
       "4824      US  2005  294993509.0  6134.521  Abilene       64.676754\n",
       "4971      US  2006  297758977.0  6051.668  Abilene       66.384285\n",
       "5118      US  2007  300608425.0  6131.004  Abilene       63.182593\n",
       "5265      US  2008  303486022.0  5914.078  Abilene       64.493778\n",
       "5412      US  2009  306307565.0  5478.210  Abilene       64.347104\n",
       "5559      US  2010  309011469.0  5675.786  Abilene       64.201128\n",
       "5706      US  2011  311584051.0  5540.173  Abilene       67.231342\n",
       "5853      US  2012  314043885.0  5338.698  Abilene       67.129196\n",
       "6000      US  2013  316400539.0  5474.257  Abilene       64.442176\n",
       "6147      US  2014  318673422.0  5522.807  Abilene       64.987577\n",
       "6294      US  2015  320878312.0  5371.771  Abilene       64.975965\n",
       "6441      US  2016  323015992.0  5248.024  Abilene       65.746944\n",
       "6588      US  2017  325084758.0  5207.751  Abilene       65.064853\n",
       "6735      US  2018  327096263.0  5375.491  Abilene       64.308569\n",
       "6882      US  2019  329064917.0  5255.816  Abilene       65.250757"
      ]
     },
     "execution_count": 28,
     "metadata": {},
     "output_type": "execute_result"
    }
   ],
   "source": [
    "# create list to iterate\n",
    "df_list2 = [d for _, d in main_year.groupby(['City'])]\n",
    "df_list2[0]"
   ]
  },
  {
   "cell_type": "code",
   "execution_count": 29,
   "id": "71e6c8d0",
   "metadata": {},
   "outputs": [],
   "source": [
    "# iterate through list to display yearly visualization\n",
    "#for df in df_list2:\n",
    "    #fig,ax=plt.subplots()\n",
    "    #ax.plot(df.Year,df.co2,color='red')\n",
    "    #Title=df.iloc[1,4]\n",
    "    #plt.title(Title)\n",
    "    #ax.set_xlabel('Date',fontsize=14)\n",
    "    #ax.set_ylabel('CO2 Emission',color='red',fontsize=14)\n",
    "    #ax2=ax.twinx()\n",
    "    #ax2.plot(df.Year,df.AvgTemperature,color='steelblue')\n",
    "    #ax2.set_ylabel('Average Temp',color='steelblue',fontsize=14)"
   ]
  },
  {
   "cell_type": "code",
   "execution_count": 30,
   "id": "86669c0d",
   "metadata": {},
   "outputs": [
    {
     "data": {
      "text/plain": [
       "Country           0\n",
       "Year              0\n",
       "population        0\n",
       "co2               0\n",
       "City              0\n",
       "AvgTemperature    0\n",
       "dtype: int64"
      ]
     },
     "execution_count": 30,
     "metadata": {},
     "output_type": "execute_result"
    }
   ],
   "source": [
    "# check dataset for null values\n",
    "main_year.isnull().sum()"
   ]
  },
  {
   "cell_type": "code",
   "execution_count": 31,
   "id": "ef106e4a",
   "metadata": {},
   "outputs": [],
   "source": [
    "# summary statistics for all cities/countries prior to grouping\n",
    "co2_stats = main_year[\"co2\"].describe()\n",
    "#co2_stats"
   ]
  },
  {
   "cell_type": "code",
   "execution_count": 32,
   "id": "1967d4ab",
   "metadata": {},
   "outputs": [],
   "source": [
    "# calculate lower and upper bounds for outliers\n",
    "temp_IQR = co2_stats[\"75%\"] - co2_stats[\"25%\"]\n",
    "lower_bound = co2_stats[\"25%\"] - 1.5*temp_IQR\n",
    "upper_bound = co2_stats[\"75%\"] + 1.5*temp_IQR\n",
    "#print(lower_bound, upper_bound)"
   ]
  },
  {
   "cell_type": "code",
   "execution_count": 33,
   "id": "13a08939",
   "metadata": {},
   "outputs": [],
   "source": [
    "# determine number of lower bound outliers\n",
    "lower_bound_outliers = main_year[main_year[\"co2\"] < lower_bound]\n",
    "#lower_bound_outliers"
   ]
  },
  {
   "cell_type": "code",
   "execution_count": 34,
   "id": "42647fc3",
   "metadata": {},
   "outputs": [],
   "source": [
    "# determine number of upper bound outliers\n",
    "upper_bound_outliers = main_year[main_year[\"co2\"] > upper_bound]\n",
    "#upper_bound_outliers"
   ]
  },
  {
   "cell_type": "code",
   "execution_count": 35,
   "id": "6e753818",
   "metadata": {},
   "outputs": [],
   "source": [
    "# save the file\n",
    "output_file = \"merged_df.csv\"\n",
    "main_year.to_csv(output_file)"
   ]
  },
  {
   "cell_type": "code",
   "execution_count": 36,
   "id": "2b7ffc23",
   "metadata": {},
   "outputs": [],
   "source": [
    "# predict Co2 based on year\n",
    "from sklearn.model_selection import train_test_split\n",
    "import datetime as dt\n",
    "Citylist=[]\n",
    "Coeflist=[]\n",
    "Interceptlist=[]\n",
    "Scorelist=[]\n",
    "for df in df_list2:\n",
    "    y=df['co2'].values\n",
    "    X=df['Year'].values.reshape(-1,1)\n",
    "    X_train,X_test,y_train, y_test = train_test_split(X,y, train_size = .7,random_state=42)\n",
    "    model = LinearRegression()\n",
    "    model.fit(X_train,y_train)\n",
    "    Scorelist.append(model.score(X_train,y_train))\n",
    "    \n",
    "    Citylist.append(df.iloc[1,4])\n",
    "    Coeflist.append(model.coef_)\n",
    "    Interceptlist.append(model.intercept_)\n",
    "Eqdf=pd.DataFrame({'City':Citylist,'Coef':Coeflist,\"Intercept\":Interceptlist,\"Model Score\":Scorelist})\n",
    "#Eqdf"
   ]
  },
  {
   "cell_type": "code",
   "execution_count": 37,
   "id": "b45fef87",
   "metadata": {},
   "outputs": [],
   "source": [
    "# predict temperature based on year\n",
    "Citylist2=[]\n",
    "Coeflist2=[]\n",
    "Interceptlist2=[]\n",
    "Scorelist2=[]\n",
    "for df in df_list2:\n",
    "    y=df['AvgTemperature'].values\n",
    "    X=df['Year'].values.reshape(-1,1)\n",
    "    X_train,X_test,y_train, y_test = train_test_split(X,y, train_size = .7,random_state=42)\n",
    "    model = LinearRegression()\n",
    "    model.fit(X_train,y_train)\n",
    "    Scorelist2.append(model.score(X_train,y_train))\n",
    "    \n",
    "    Citylist2.append(df.iloc[1,4])\n",
    "    Coeflist2.append(model.coef_)\n",
    "    Interceptlist2.append(model.intercept_)\n",
    "Eqdf2=pd.DataFrame({'City':Citylist2,'Coef':Coeflist2,\"Intercept\":Interceptlist2,\"Model Score\":Scorelist2})\n",
    "#Eqdf2"
   ]
  },
  {
   "cell_type": "code",
   "execution_count": 38,
   "id": "fe252d91",
   "metadata": {},
   "outputs": [],
   "source": [
    "# predict average temperature based on Co2\n",
    "Citylist3=[]\n",
    "Coeflist3=[]\n",
    "Interceptlist3=[]\n",
    "Scorelist3=[]\n",
    "for df in df_list2:\n",
    "    y=df['AvgTemperature'].values\n",
    "    X=df['co2'].values.reshape(-1,1)\n",
    "    X_train,X_test,y_train, y_test = train_test_split(X,y, train_size = .7,random_state=42)\n",
    "    model = LinearRegression()\n",
    "    model.fit(X_train,y_train)\n",
    "    Scorelist3.append(model.score(X_train,y_train))\n",
    "    \n",
    "    Citylist3.append(df.iloc[1,4])\n",
    "    Coeflist3.append(model.coef_)\n",
    "    Interceptlist3.append(model.intercept_)\n",
    "Eqdf3=pd.DataFrame({'City':Citylist3,'Coef':Coeflist3,\"Intercept\":Interceptlist3,\"Model Score\":Scorelist3})\n",
    "#Eqdf3"
   ]
  },
  {
   "cell_type": "code",
   "execution_count": 39,
   "id": "7cc064d3",
   "metadata": {},
   "outputs": [
    {
     "name": "stdout",
     "output_type": "stream",
     "text": [
      "Choose City:Zurich\n",
      "Year:2050\n",
      "Predicted average temperature in 2050 is \n",
      "[51.4384852]\n"
     ]
    },
    {
     "data": {
      "image/png": "[encoded data removed]",
      "text/plain": [
       "<Figure size 640x480 with 1 Axes>"
      ]
     },
     "metadata": {},
     "output_type": "display_data"
    }
   ],
   "source": [
    "# temperature Estimator\n",
    "while True:             # Loop continuously\n",
    "    TargetCity = input('Choose City:')\n",
    "    TargetYear= input('Year:')\n",
    "    if (Eqdf2['City'] == TargetCity).any():\n",
    "        Tempdf=Eqdf2.loc[Eqdf2['City'] == TargetCity]\n",
    "        Temperature=Tempdf.iloc[0]['Coef']*int(TargetYear)+Tempdf.iloc[0]['Intercept']\n",
    "        B= Eqdf2.index[Eqdf2['City']==TargetCity].tolist()\n",
    "        A=B[0]\n",
    "        formula=Tempdf.iloc[0]['Coef']*df_list2[A].Year+Tempdf.iloc[0]['Intercept']\n",
    "        #Z=A[0]\n",
    "        print(\"Predicted average temperature in \" + TargetYear + \" is \")\n",
    "        print(Temperature)\n",
    "        fig,ax=plt.subplots()\n",
    "        ax.plot(df_list2[A].Year,formula,color='red')\n",
    "        Title=df_list2[A].iloc[1,4]\n",
    "        plt.title(Title + \" \" + \"Current Trend\")\n",
    "        ax.set_xlabel('Date',fontsize=14)\n",
    "        ax.set_ylabel('Temperature Trend',color='red',fontsize=14)\n",
    "        #ax2=ax.twinx()\n",
    "        ax.plot(df_list2[A].Year,df_list2[A].AvgTemperature,color='steelblue')\n",
    "        ax.set_ylabel('Average Temp',color='steelblue',fontsize=14)\n",
    "        break"
   ]
  },
  {
   "cell_type": "code",
   "execution_count": 40,
   "id": "330f2f8f",
   "metadata": {},
   "outputs": [],
   "source": [
    "filter1df = Eqdf2[Eqdf2['Coef']<1]\n",
    "filter2df = filter1df[filter1df['Coef']>-1]\n",
    "Sorteddf = filter2df.sort_values(by=['Coef'],ascending=False)\n",
    "#Sorteddf"
   ]
  },
  {
   "cell_type": "code",
   "execution_count": 41,
   "id": "eb8fd1ea",
   "metadata": {},
   "outputs": [],
   "source": [
    "# show top five\n",
    "#Sorteddf.head()"
   ]
  },
  {
   "cell_type": "code",
   "execution_count": 42,
   "id": "c49bb4d8",
   "metadata": {},
   "outputs": [],
   "source": [
    "# show last five\n",
    "#Sorteddf.tail()"
   ]
  },
  {
   "cell_type": "code",
   "execution_count": null,
   "id": "d07843d6",
   "metadata": {},
   "outputs": [],
   "source": []
  }
 ],
 "metadata": {
  "kernelspec": {
   "display_name": "PythonData",
   "language": "python",
   "name": "pythondata"
  },
  "language_info": {
   "codemirror_mode": {
    "name": "ipython",
    "version": 3
   },
   "file_extension": ".py",
   "mimetype": "text/x-python",
   "name": "python",
   "nbconvert_exporter": "python",
   "pygments_lexer": "ipython3",
   "version": "3.7.13"
  }
 },
 "nbformat": 4,
 "nbformat_minor": 5
}
